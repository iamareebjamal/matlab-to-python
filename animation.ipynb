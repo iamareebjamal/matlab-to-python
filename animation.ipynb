{
 "cells": [
  {
   "cell_type": "code",
   "execution_count": null,
   "metadata": {},
   "outputs": [],
   "source": [
    "%matplotlib inline\n",
    "import numpy as np\n",
    "import matplotlib.pyplot as plt\n",
    "from matplotlib import cm\n",
    "from mpl_toolkits.mplot3d import Axes3D\n",
    "import matplotlib.animation as animation\n",
    "from IPython.display import HTML\n",
    "\n",
    "X = Y = np.arange(0, 2, 0.05)\n",
    "X, Y = np.meshgrid(X, Y)"
   ]
  },
  {
   "cell_type": "code",
   "execution_count": null,
   "metadata": {},
   "outputs": [],
   "source": [
    "m = int(input('m: '))\n",
    "n = int(input('n: '))"
   ]
  },
  {
   "cell_type": "code",
   "execution_count": null,
   "metadata": {},
   "outputs": [],
   "source": [
    "frames = 101\n",
    "Z = [3*(np.sin(m*np.pi*X/2))*(np.sin(n*np.pi*Y/2))*np.sin(i/10) for i in range(frames)]\n",
    "\n",
    "fig = plt.figure()\n",
    "ax = Axes3D(fig)\n",
    "ax.set_zlim(-5, 5)\n",
    "plot = ax.plot_surface(X, Y, Z[50], cmap=cm.viridis)\n",
    "\n",
    "def update_lines(frame):\n",
    "    global plot\n",
    "    plot.remove()\n",
    "    plot = ax.plot_surface(X, Y, Z[frame], cmap=cm.viridis)\n",
    "    return plot,\n",
    "\n",
    "anim = animation.FuncAnimation(fig, update_lines, frames, interval=50)\n",
    "\n",
    "plt.show()\n",
    "\n",
    "HTML(anim.to_jshtml())"
   ]
  }
 ],
 "metadata": {
  "kernelspec": {
   "display_name": "Python 3",
   "language": "python",
   "name": "python3"
  },
  "language_info": {
   "codemirror_mode": {
    "name": "ipython",
    "version": 3
   },
   "file_extension": ".py",
   "mimetype": "text/x-python",
   "name": "python",
   "nbconvert_exporter": "python",
   "pygments_lexer": "ipython3",
   "version": "3.6.7"
  }
 },
 "nbformat": 4,
 "nbformat_minor": 2
}
